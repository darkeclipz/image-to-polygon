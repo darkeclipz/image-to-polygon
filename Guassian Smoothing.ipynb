{
 "cells": [
  {
   "cell_type": "code",
   "execution_count": 4,
   "metadata": {},
   "outputs": [
    {
     "name": "stdout",
     "output_type": "stream",
     "text": [
      "Populating the interactive namespace from numpy and matplotlib\n"
     ]
    }
   ],
   "source": [
    "%pylab inline"
   ]
  },
  {
   "cell_type": "code",
   "execution_count": 3,
   "metadata": {},
   "outputs": [],
   "source": [
    "import math"
   ]
  },
  {
   "cell_type": "markdown",
   "metadata": {},
   "source": [
    "# Gaussian Smoothing"
   ]
  },
  {
   "cell_type": "markdown",
   "metadata": {},
   "source": [
    "The Gaussian smoothing operator is a 2-D convolution operator that is used to 'blur' images and remove detail and noise."
   ]
  },
  {
   "cell_type": "markdown",
   "metadata": {},
   "source": [
    "## Gaussian Distribution"
   ]
  },
  {
   "cell_type": "markdown",
   "metadata": {},
   "source": [
    "The Gaussian distribution in 1D has the form:\n",
    "\n",
    "$$ G(x) = \\dfrac{1}{\\sqrt{2\\pi\\sigma}}e^{-\\dfrac{x^2}{2\\sigma^2}} $$"
   ]
  },
  {
   "cell_type": "markdown",
   "metadata": {},
   "source": [
    "We can define this in Python as:"
   ]
  },
  {
   "cell_type": "code",
   "execution_count": 21,
   "metadata": {},
   "outputs": [],
   "source": [
    "def G(x, sigma=1):\n",
    "    return 1 / math.sqrt(2*math.pi*sigma) * math.exp(-x**2 / (2*sigma**2))"
   ]
  },
  {
   "cell_type": "markdown",
   "metadata": {},
   "source": [
    "At the value $G(0)$ the function returns the highest value."
   ]
  },
  {
   "cell_type": "code",
   "execution_count": 22,
   "metadata": {},
   "outputs": [
    {
     "data": {
      "text/plain": [
       "0.3989422804014327"
      ]
     },
     "execution_count": 22,
     "metadata": {},
     "output_type": "execute_result"
    }
   ],
   "source": [
    "G(0)"
   ]
  },
  {
   "cell_type": "markdown",
   "metadata": {},
   "source": [
    "And if we plot the function, it is the bell curve."
   ]
  },
  {
   "cell_type": "code",
   "execution_count": 35,
   "metadata": {},
   "outputs": [
    {
     "data": {
      "text/plain": [
       "[<matplotlib.lines.Line2D at 0xc1a9b0>]"
      ]
     },
     "execution_count": 35,
     "metadata": {},
     "output_type": "execute_result"
    },
    {
     "data": {
      "image/png": "[encoded data removed]",
      "text/plain": [
       "<Figure size 720x432 with 1 Axes>"
      ]
     },
     "metadata": {
      "needs_background": "light"
     },
     "output_type": "display_data"
    }
   ],
   "source": [
    "X = np.linspace(-math.pi, math.pi, 200)\n",
    "y = [G(x) for x in X]\n",
    "plt.figure(figsize=(10,6))\n",
    "plot(X, y, lw=1, c='b')"
   ]
  },
  {
   "cell_type": "markdown",
   "metadata": {},
   "source": [
    "Another known fact is that the area under this curve, that is"
   ]
  },
  {
   "cell_type": "markdown",
   "metadata": {},
   "source": [
    "$$\n",
    "\\int_{-\\infty}^{\\infty} \\dfrac{1}{\\sqrt{2\\pi\\sigma}}e^{-\\dfrac{x^2}{2\\sigma^2}} = 1\n",
    "$$"
   ]
  },
  {
   "cell_type": "markdown",
   "metadata": {},
   "source": [
    "is a total area of $1$. Approximately integrating this in Python will demonstrate this:"
   ]
  },
  {
   "cell_type": "code",
   "execution_count": 47,
   "metadata": {},
   "outputs": [],
   "source": [
    "def integrate(f, a, b, step_size):\n",
    "    X = np.linspace(a, b, (b - a) / step_size)\n",
    "    y = [f(x)*step_size for x in X]\n",
    "    return sum(y)"
   ]
  },
  {
   "cell_type": "code",
   "execution_count": 49,
   "metadata": {},
   "outputs": [
    {
     "data": {
      "text/plain": [
       "0.9995000000000002"
      ]
     },
     "execution_count": 49,
     "metadata": {},
     "output_type": "execute_result"
    }
   ],
   "source": [
    "integrate(G, -10, 10, 0.01)"
   ]
  },
  {
   "cell_type": "markdown",
   "metadata": {},
   "source": [
    "With this we can calculate the 1D convolution kernel:"
   ]
  },
  {
   "cell_type": "code",
   "execution_count": 65,
   "metadata": {},
   "outputs": [
    {
     "data": {
      "text/plain": [
       "<matplotlib.image.AxesImage at 0x6deda50>"
      ]
     },
     "execution_count": 65,
     "metadata": {},
     "output_type": "execute_result"
    },
    {
     "data": {
      "image/png": "[encoded data removed]",
      "text/plain": [
       "<Figure size 432x288 with 1 Axes>"
      ]
     },
     "metadata": {
      "needs_background": "light"
     },
     "output_type": "display_data"
    }
   ],
   "source": [
    "gaussian_kernel_1d = [integrate(G, i - 1 + 0.5, i + 0.5, step_size=0.01) for i in range(-3, 3 + 1)]\n",
    "plt.imshow([gaussian_kernel_1d])"
   ]
  },
  {
   "cell_type": "markdown",
   "metadata": {},
   "source": [
    "In 2D, the Gaussian has the form\n",
    "\n",
    "$$\n",
    "G(x, y) = \\dfrac{1}{2\\pi\\sigma}e^{-\\dfrac{x^2 + y^2}{2\\sigma^2}}\n",
    "$$"
   ]
  },
  {
   "cell_type": "code",
   "execution_count": 71,
   "metadata": {},
   "outputs": [],
   "source": [
    "def G2(x, y, sigma=1):\n",
    "    return 1 / (2*math.pi*sigma) * math.exp(-(x*x + y*y) / (2*sigma**2))"
   ]
  },
  {
   "cell_type": "markdown",
   "metadata": {},
   "source": [
    "To generate the kernel, we integrate $G$ over the region $R$, which is a single pixel.\n",
    "\n",
    "$$\n",
    "\\iint_R \\dfrac{1}{2\\pi\\sigma}e^{-\\dfrac{x^2 + y^2}{2\\sigma^2}}\n",
    "$$\n",
    "\n"
   ]
  },
  {
   "cell_type": "code",
   "execution_count": 145,
   "metadata": {},
   "outputs": [],
   "source": [
    "def integrate2(f, x1, y1, x2, y2, step_size):\n",
    "    X = np.linspace(x1, x2, abs((x2 - x1) / step_size))\n",
    "    Y = np.linspace(y1, y2, abs((y2 - y1) / step_size))\n",
    "    y = [f(x, y) * step_size**2 for y in Y for x in X]\n",
    "    return sum(y)"
   ]
  },
  {
   "cell_type": "code",
   "execution_count": 146,
   "metadata": {
    "scrolled": false
   },
   "outputs": [
    {
     "data": {
      "text/plain": [
       "0.22765053729565765"
      ]
     },
     "execution_count": 146,
     "metadata": {},
     "output_type": "execute_result"
    }
   ],
   "source": [
    "integrate2(G2, 0, 0, 2, 2, 0.01)"
   ]
  },
  {
   "cell_type": "code",
   "execution_count": 183,
   "metadata": {},
   "outputs": [
    {
     "data": {
      "text/plain": [
       "0.15915494309189535"
      ]
     },
     "execution_count": 183,
     "metadata": {},
     "output_type": "execute_result"
    }
   ],
   "source": [
    "G2(0, 0)"
   ]
  },
  {
   "cell_type": "code",
   "execution_count": 190,
   "metadata": {},
   "outputs": [],
   "source": [
    "def gaussian_kernel(n, sigma):\n",
    "    K = []\n",
    "    G = []\n",
    "    if not n & 1:\n",
    "        raise Exception('n must be odd.')\n",
    "    for x in range(-n//2 + 1, n//2 + 1):\n",
    "        for y in range(-n//2 + 1, n//2 + 1):\n",
    "            K.append(integrate2(G2, x-1, x, y-1, y, 0.01))\n",
    "            G.append([x, y])\n",
    "    return np.array(K).reshape((n, n)), G"
   ]
  },
  {
   "cell_type": "code",
   "execution_count": 191,
   "metadata": {},
   "outputs": [
    {
     "data": {
      "text/plain": [
       "array([[0.        , 0.00292174, 0.07526816, 0.40785792, 0.79939352],\n",
       "       [0.00292174, 0.        , 0.04640341, 0.32525377, 0.66804933],\n",
       "       [0.07526816, 0.04640341, 0.        , 0.11637229, 0.32525377],\n",
       "       [0.40785792, 0.32525377, 0.11637229, 0.        , 0.04640341],\n",
       "       [0.79939352, 0.66804933, 0.32525377, 0.04640341, 0.        ]])"
      ]
     },
     "execution_count": 191,
     "metadata": {},
     "output_type": "execute_result"
    }
   ],
   "source": [
    "gaussian_kernel_2d, G = gaussian_kernel(5, 1)\n",
    "gaussian_kernel_2d"
   ]
  },
  {
   "cell_type": "code",
   "execution_count": 192,
   "metadata": {},
   "outputs": [
    {
     "data": {
      "text/plain": [
       "<matplotlib.image.AxesImage at 0x71058b0>"
      ]
     },
     "execution_count": 192,
     "metadata": {},
     "output_type": "execute_result"
    },
    {
     "data": {
      "image/png": "[encoded data removed]",
      "text/plain": [
       "<Figure size 432x288 with 1 Axes>"
      ]
     },
     "metadata": {
      "needs_background": "light"
     },
     "output_type": "display_data"
    }
   ],
   "source": [
    "imshow(gaussian_kernel_2d)"
   ]
  },
  {
   "cell_type": "code",
   "execution_count": 195,
   "metadata": {},
   "outputs": [],
   "source": [
    "G = np.array(G).reshape((5,5, 2))"
   ]
  },
  {
   "cell_type": "code",
   "execution_count": null,
   "metadata": {},
   "outputs": [],
   "source": []
  }
 ],
 "metadata": {
  "kernelspec": {
   "display_name": "Python 3",
   "language": "python",
   "name": "python3"
  },
  "language_info": {
   "codemirror_mode": {
    "name": "ipython",
    "version": 3
   },
   "file_extension": ".py",
   "mimetype": "text/x-python",
   "name": "python",
   "nbconvert_exporter": "python",
   "pygments_lexer": "ipython3",
   "version": "3.7.4"
  }
 },
 "nbformat": 4,
 "nbformat_minor": 2
}
